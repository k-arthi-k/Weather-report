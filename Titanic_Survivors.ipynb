{
  "nbformat": 4,
  "nbformat_minor": 0,
  "metadata": {
    "colab": {
      "name": "Titanic_Survivors.ipynb",
      "provenance": [],
      "collapsed_sections": [],
      "toc_visible": true,
      "authorship_tag": "ABX9TyNQDYlU3OotzpIWeKxXQNQG",
      "include_colab_link": true
    },
    "kernelspec": {
      "name": "python3",
      "display_name": "Python 3"
    },
    "language_info": {
      "name": "python"
    }
  },
  "cells": [
    {
      "cell_type": "markdown",
      "metadata": {
        "id": "view-in-github",
        "colab_type": "text"
      },
      "source": [
        "<a href=\"https://colab.research.google.com/github/k-arthi-k/Weather-report/blob/main/Titanic_Survivors.ipynb\" target=\"_parent\"><img src=\"https://colab.research.google.com/assets/colab-badge.svg\" alt=\"Open In Colab\"/></a>"
      ]
    },
    {
      "cell_type": "markdown",
      "metadata": {
        "id": "kl3qs9Y8pX0q"
      },
      "source": [
        "Conclusion:\n",
        "\n",
        "        * Female passengers were prioritized over men\n",
        "        * People with high class or rich people have higher survival rate than others. The hierarichy might have been followed while saving the passengers.\n",
        "        * Passengers travelling with their family have higher survival rate.\n",
        "        * Passengers who borded the ship at Cherbourg, survived more in proportion then the others."
      ]
    },
    {
      "cell_type": "code",
      "metadata": {
        "colab": {
          "base_uri": "https://localhost:8080/"
        },
        "id": "nXN0XPcgg9XK",
        "outputId": "5313edd3-9d0a-466d-eb9a-368c8071c6dc"
      },
      "source": [
        "import pandas as pd\n",
        "import numpy as np\n",
        "\n",
        "df = pd.DataFrame(pd.read_csv('/content/train.csv'))\n",
        "df.head()\n",
        "df.shape\n",
        "\n",
        "df.isnull().sum()\n",
        "drop_col = df.isnull().sum()[df.isnull().sum()>(35/100*df.shape[0])]\n",
        "drop_col\n",
        "\n",
        "drop_col.index\n",
        "df.drop(drop_col.index, axis = 1, inplace = True)\n",
        "df.isnull().sum()\n",
        "\n",
        "df.fillna(df.mean(), inplace = True)\n",
        "df.isnull().sum()\n",
        "\n",
        "df['Embarked'].describe()\n",
        "df['Embarked'].fillna('S', inplace = True)\n",
        "df.isnull().sum()\n",
        "\n",
        "df.corr()\n",
        "\n",
        "df['FamilySize'] = df['SibSp']+df['Parch']\n",
        "df.drop(['SibSp','Parch'], axis = 1, inplace = True)\n",
        "df.corr()\n",
        "\n",
        "df['Alone'] = [0 if df['FamilySize'][i]>0 else 1 for i in df.index]\n",
        "df.head()\n",
        "\n",
        "df.groupby(['Alone'])['Survived'].mean()\n",
        "\n",
        "df[['Alone','Fare']].corr()\n",
        "\n",
        "df['Sex'] = [ 0 if df['Sex'][i] == 'male' else 1 for i in df.index]\n",
        "df.groupby(['Sex'])['Survived'].mean()\n",
        "df.groupby(['Embarked'])['Survived'].mean()\n"
      ],
      "execution_count": 4,
      "outputs": [
        {
          "output_type": "execute_result",
          "data": {
            "text/plain": [
              "Embarked\n",
              "C    0.553571\n",
              "Q    0.389610\n",
              "S    0.339009\n",
              "Name: Survived, dtype: float64"
            ]
          },
          "metadata": {
            "tags": []
          },
          "execution_count": 4
        }
      ]
    }
  ]
}